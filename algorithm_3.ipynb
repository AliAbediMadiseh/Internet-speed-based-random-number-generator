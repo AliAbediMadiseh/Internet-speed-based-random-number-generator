{
 "cells": [
  {
   "cell_type": "code",
   "execution_count": 61,
   "metadata": {},
   "outputs": [
    {
     "name": "stdout",
     "output_type": "stream",
     "text": [
      "seed1 =  9093342954901710\n",
      "seed2 =  3178786452778409\n",
      "seed3 =  1407235596600062\n"
     ]
    }
   ],
   "source": [
    "import speedtest\n",
    "\n",
    "st = speedtest.Speedtest()\n",
    "u1 = st.upload()\n",
    "u1 = str(u1)\n",
    "u1 = u1.replace(\".\" , \"\")\n",
    "u1 = int(u1) ** 2\n",
    "u1 = str(u1)\n",
    "seed16_1 = str(seed16_1)\n",
    "print(\"seed1 = \",seed16_1[7:23])\n",
    "seed2 = int(seed16_1)**2\n",
    "seed2 = str(seed2)\n",
    "print( \"seed2 = \",seed2[7:23])\n",
    "seed3 = int(seed2) ** 2\n",
    "seed3 = str(seed3)\n",
    "print(\"seed3 = \",seed3[7:23])"
   ]
  },
  {
   "cell_type": "code",
   "execution_count": null,
   "metadata": {},
   "outputs": [],
   "source": []
  }
 ],
 "metadata": {
  "kernelspec": {
   "display_name": "Python 3",
   "language": "python",
   "name": "python3"
  },
  "language_info": {
   "codemirror_mode": {
    "name": "ipython",
    "version": 3
   },
   "file_extension": ".py",
   "mimetype": "text/x-python",
   "name": "python",
   "nbconvert_exporter": "python",
   "pygments_lexer": "ipython3",
   "version": "3.7.6"
  }
 },
 "nbformat": 4,
 "nbformat_minor": 4
}
