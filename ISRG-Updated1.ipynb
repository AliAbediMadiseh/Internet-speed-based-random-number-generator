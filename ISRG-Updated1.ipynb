{
 "cells": [
  {
   "cell_type": "code",
   "execution_count": 151,
   "metadata": {},
   "outputs": [
    {
     "name": "stdout",
     "output_type": "stream",
     "text": [
      "seed 1 = 0044756726407329\n",
      "seed 2 =  1155867837518440\n"
     ]
    }
   ],
   "source": [
    "###Internet Speed Random Generator(ISRG)###\n",
    "\n",
    "import speedtest\n",
    "\n",
    "st = speedtest.Speedtest()\n",
    "u1 = st.upload()\n",
    "u1 = str(u1)\n",
    "u1 = u1.replace(\".\" , \"\")\n",
    "u1 = int(u1) ** 2\n",
    "seed = str(u1)\n",
    "seed = seed[7:23]\n",
    "print(\"seed 1 =\",seed)\n",
    "if seed[0] == \"0\" :\n",
    "    seed = (int(int(len(seed))*\"1\")) + int(seed)\n",
    "    print(\"seed 2 = \", seed)\n",
    "else:\n",
    "    print(\"seed 3= \",seed)\n"
   ]
  },
  {
   "cell_type": "code",
   "execution_count": 136,
   "metadata": {},
   "outputs": [],
   "source": [
    "###seed 1 shows first seed, seed 2 if seed[0] == 0 showed and seed 3 showed when seed[0] isn't 0###\n",
    "\n",
    "#when seed[0] =! 0\n",
    "#[out] : seed 1 = 3425455279160444\n",
    "#        seed 3=  3425455279160444\n",
    "\n",
    "#when seed[0] == 0\n",
    "#[out] : seed 1 = 0044756726407329\n",
    "#        seed 2 = 1155867837518440"
   ]
  }
 ],
 "metadata": {
  "kernelspec": {
   "display_name": "Python 3",
   "language": "python",
   "name": "python3"
  },
  "language_info": {
   "codemirror_mode": {
    "name": "ipython",
    "version": 3
   },
   "file_extension": ".py",
   "mimetype": "text/x-python",
   "name": "python",
   "nbconvert_exporter": "python",
   "pygments_lexer": "ipython3",
   "version": "3.7.6"
  }
 },
 "nbformat": 4,
 "nbformat_minor": 4
}
